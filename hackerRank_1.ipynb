{
 "cells": [
  {
   "cell_type": "markdown",
   "metadata": {},
   "source": [
    "#### Section 1: Mastering Data Structures and Algorithms\n",
    "- Lists, Tuples, Sets, Dictionaries (operations, methods, and use cases)\n",
    "- Strings (slicing, indexing, manipulations)\n",
    "- Linked Lists (implementation, traversal, operations)\n",
    "- Trees (binary trees, traversals)\n",
    "- Sorting algorithms (bubble sort, merge sort, quick sort)\n",
    "- Searching algorithms (linear search, binary search)"
   ]
  },
  {
   "cell_type": "markdown",
   "metadata": {},
   "source": [
    "##### Easy Example"
   ]
  },
  {
   "cell_type": "code",
   "execution_count": 1,
   "metadata": {},
   "outputs": [
    {
     "name": "stdout",
     "output_type": "stream",
     "text": [
      "4.84\n"
     ]
    }
   ],
   "source": [
    "# Find the second largest number in a list\n",
    "def find_second_largest(nums):\n",
    "    nums.sort()\n",
    "    return nums[-2] if len(nums) >= 2 else none\n",
    "\n",
    "print(find_second_largest([110.4, 2, 4.84, 4.8, 3.79]))"
   ]
  },
  {
   "cell_type": "code",
   "execution_count": 2,
   "metadata": {},
   "outputs": [
    {
     "name": "stdout",
     "output_type": "stream",
     "text": [
      "4.84\n"
     ]
    }
   ],
   "source": [
    "# find second largest number in a list without sorting\n",
    "def find_second_largest_2(nums):\n",
    "    largest = second_largest = float('-inf')\n",
    "    for num in nums:\n",
    "        if num > largest:\n",
    "            second_largest = largest\n",
    "            largest = num\n",
    "        elif num > second_largest and num != largest:\n",
    "            second_largest = num\n",
    "    return second_largest if second_largest != float('-inf') else None\n",
    "\n",
    "print(find_second_largest_2([110.4, 2, 4.84, 4.8, 3.79]))"
   ]
  },
  {
   "cell_type": "code",
   "execution_count": 3,
   "metadata": {},
   "outputs": [
    {
     "name": "stdout",
     "output_type": "stream",
     "text": [
      "3.79\n"
     ]
    }
   ],
   "source": [
    "# Example (Easy): Find the second smallest number in a list by index\n",
    "def find_second_smallest(nums):\n",
    "    min_index = nums.index(min(nums))\n",
    "    return min(nums[:min_index] + nums[min_index + 1:])\n",
    "\n",
    "print(find_second_smallest([110.4, 2, 4.84, 4.8, 3.79]))"
   ]
  },
  {
   "cell_type": "markdown",
   "metadata": {},
   "source": [
    "Above solution has time complexity of O(n) and space complexity O(n) because it creates new list proportional to input size. \n",
    "\n",
    "Below solution has time complexity of O(n) and space complexity of O(1) because it uses a constant amount of additional memory regardless of input size; it uses only 2 variables for memory."
   ]
  },
  {
   "cell_type": "code",
   "execution_count": 4,
   "metadata": {},
   "outputs": [
    {
     "name": "stdout",
     "output_type": "stream",
     "text": [
      "3.79\n"
     ]
    }
   ],
   "source": [
    "def find_second_smallest_2(nums):\n",
    "    smallest = float('inf')\n",
    "    second_smallest = float('inf')\n",
    "\n",
    "    for num in nums:\n",
    "        if num < smallest:\n",
    "            second_smallest = smallest\n",
    "            smallest = num\n",
    "        elif num < second_smallest and num != smallest:\n",
    "            second_smallest = num\n",
    "\n",
    "    return second_smallest if second_smallest != float('inf') else None\n",
    "\n",
    "print(find_second_smallest_2([110.4, 2, 4.84, 4.8, 3.79]))"
   ]
  },
  {
   "cell_type": "markdown",
   "metadata": {},
   "source": [
    "##### Medium Example"
   ]
  },
  {
   "cell_type": "code",
   "execution_count": 5,
   "metadata": {},
   "outputs": [
    {
     "name": "stdout",
     "output_type": "stream",
     "text": [
      "-1\n"
     ]
    }
   ],
   "source": [
    "# Problem: Given a sorted array of distinct integers nums, and a target integer target, check if the target exists in the array. If it does, return the index of the target in the array. Otherwise, return -1.\n",
    "def search(nums, target):\n",
    "    left, right = 0, len(nums) - 1\n",
    "\n",
    "    while left <= right:\n",
    "        mid = left + (right - left) // 2\n",
    "        if nums[mid] == target:\n",
    "            return mid\n",
    "        elif nums[mid] < target:\n",
    "            left = mid + 1\n",
    "        else:\n",
    "            right = mid - 1\n",
    "    return -1\n",
    "\n",
    "print(search([1, 2, 3, 4, 6, 7, 8, 9], 5))\n",
    "\n"
   ]
  }
 ],
 "metadata": {
  "kernelspec": {
   "display_name": "Python 3",
   "language": "python",
   "name": "python3"
  },
  "language_info": {
   "codemirror_mode": {
    "name": "ipython",
    "version": 3
   },
   "file_extension": ".py",
   "mimetype": "text/x-python",
   "name": "python",
   "nbconvert_exporter": "python",
   "pygments_lexer": "ipython3",
   "version": "3.12.0"
  }
 },
 "nbformat": 4,
 "nbformat_minor": 2
}
