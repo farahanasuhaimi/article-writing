{
 "cells": [
  {
   "cell_type": "markdown",
   "metadata": {},
   "source": [
    "#### Section 1: Mastering Data Structures and Algorithms\n",
    "- Lists, Tuples, Sets, Dictionaries (operations, methods, and use cases)\n",
    "- Strings (slicing, indexing, manipulations)\n",
    "- Linked Lists (implementation, traversal, operations)\n",
    "- Trees (binary trees, traversals)\n",
    "- Sorting algorithms (bubble sort, merge sort, quick sort)\n",
    "- Searching algorithms (linear search, binary search)"
   ]
  },
  {
   "cell_type": "code",
   "execution_count": 8,
   "metadata": {},
   "outputs": [],
   "source": [
    "# Example (Easy): Find the second largest number in a list\n",
    "def find_second_largest(nums):\n",
    "    nums.sort()\n",
    "    return nums[-2] if len(nums) >= 2 else none"
   ]
  },
  {
   "cell_type": "code",
   "execution_count": 9,
   "metadata": {},
   "outputs": [
    {
     "name": "stdout",
     "output_type": "stream",
     "text": [
      "4.9\n"
     ]
    }
   ],
   "source": [
    "print(find_second_largest([110.4, 2, 4.9, 4.8, 3.79]))"
   ]
  },
  {
   "cell_type": "code",
   "execution_count": 11,
   "metadata": {},
   "outputs": [
    {
     "name": "stdout",
     "output_type": "stream",
     "text": [
      "4.84\n"
     ]
    }
   ],
   "source": [
    "# find second largest number in a list without sorting\n",
    "def find_second_largest_2(nums):\n",
    "    largest = second_largest = float('-inf')\n",
    "    for num in nums:\n",
    "        if num > largest:\n",
    "            second_largest = largest\n",
    "            largest = num\n",
    "        elif num > second_largest and num != largest:\n",
    "            second_largest = num\n",
    "    return second_largest if second_largest != float('-inf') else None\n",
    "\n",
    "print(find_second_largest_2([110.4, 2, 4.84, 4.8, 3.79]))"
   ]
  },
  {
   "cell_type": "code",
   "execution_count": 12,
   "metadata": {},
   "outputs": [
    {
     "name": "stdout",
     "output_type": "stream",
     "text": [
      "3.79\n"
     ]
    }
   ],
   "source": [
    "# Example (Easy): Find the second smallest number in a list by index\n",
    "def find_second_smallest(nums):\n",
    "    min_index = nums.index(min(nums))\n",
    "    return min(nums[:min_index] + nums[min_index + 1:])\n",
    "\n",
    "print(find_second_smallest([110.4, 2, 4.84, 4.8, 3.79]))"
   ]
  },
  {
   "cell_type": "code",
   "execution_count": 14,
   "metadata": {},
   "outputs": [
    {
     "data": {
      "text/plain": [
       "1"
      ]
     },
     "execution_count": 14,
     "metadata": {},
     "output_type": "execute_result"
    }
   ],
   "source": [
    "nums = [110.4, 2, 4.84, 4.8, 3.79]\n",
    "min_index = nums.index(min(nums))\n",
    "min_index"
   ]
  },
  {
   "cell_type": "code",
   "execution_count": 20,
   "metadata": {},
   "outputs": [
    {
     "data": {
      "text/plain": [
       "[110.4, 4.84, 4.8, 3.79]"
      ]
     },
     "execution_count": 20,
     "metadata": {},
     "output_type": "execute_result"
    }
   ],
   "source": [
    "nums[:min_index] + nums[min_index + 1:]"
   ]
  },
  {
   "cell_type": "code",
   "execution_count": null,
   "metadata": {},
   "outputs": [],
   "source": [
    "# Example (Medium): Implement a binary search tree\n",
    "class Node:\n",
    "    def __init__(self, val):\n",
    "        self.val = val\n",
    "        self.left = None\n",
    "        self.right = None\n",
    "\n",
    "class BinarySearchTree:\n",
    "    def __init__(self):\n",
    "        self.root = None\n",
    "\n",
    "    def insert(self, val):\n",
    "        if not self.root:\n",
    "            self.root = Node(val)\n",
    "        else:\n",
    "            self._insert(val, self.root)\n",
    "\n",
    "    def _insert(self, val, node):\n",
    "        if val < node.val:\n",
    "            if not node.left:\n",
    "                node.left = Node(val)\n",
    "            else:\n",
    "                self._insert(val, node.left)\n",
    "        else:\n",
    "            if not node.right:\n",
    "                node.right = Node(val)\n",
    "            else:\n",
    "                self._insert(val, node.right)"
   ]
  }
 ],
 "metadata": {
  "kernelspec": {
   "display_name": "Python 3",
   "language": "python",
   "name": "python3"
  },
  "language_info": {
   "codemirror_mode": {
    "name": "ipython",
    "version": 3
   },
   "file_extension": ".py",
   "mimetype": "text/x-python",
   "name": "python",
   "nbconvert_exporter": "python",
   "pygments_lexer": "ipython3",
   "version": "3.12.0"
  }
 },
 "nbformat": 4,
 "nbformat_minor": 2
}
