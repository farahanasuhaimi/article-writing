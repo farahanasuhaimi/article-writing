{
 "cells": [
  {
   "cell_type": "markdown",
   "metadata": {},
   "source": [
    "#### Section 1: Mastering Data Structures and Algorithms\n",
    "- Lists, Tuples, Sets, Dictionaries (operations, methods, and use cases)\n",
    "- Strings (slicing, indexing, manipulations)\n",
    "- Linked Lists (implementation, traversal, operations)\n",
    "- Trees (binary trees, traversals)\n",
    "- Sorting algorithms (bubble sort, merge sort, quick sort)\n",
    "- Searching algorithms (linear search, binary search)"
   ]
  },
  {
   "cell_type": "markdown",
   "metadata": {},
   "source": [
    "##### Easy Example"
   ]
  },
  {
   "cell_type": "code",
   "execution_count": 1,
   "metadata": {},
   "outputs": [
    {
     "name": "stdout",
     "output_type": "stream",
     "text": [
      "4.84\n"
     ]
    }
   ],
   "source": [
    "# Find the second largest number in a list\n",
    "def find_second_largest(nums):\n",
    "    nums.sort()\n",
    "    return nums[-2] if len(nums) >= 2 else none\n",
    "\n",
    "print(find_second_largest([110.4, 2, 4.84, 4.8, 3.79]))"
   ]
  },
  {
   "cell_type": "code",
   "execution_count": 2,
   "metadata": {},
   "outputs": [
    {
     "name": "stdout",
     "output_type": "stream",
     "text": [
      "4.84\n"
     ]
    }
   ],
   "source": [
    "# find second largest number in a list without sorting\n",
    "def find_second_largest_2(nums):\n",
    "    largest = second_largest = float('-inf')\n",
    "    for num in nums:\n",
    "        if num > largest:\n",
    "            second_largest = largest\n",
    "            largest = num\n",
    "        elif num > second_largest and num != largest:\n",
    "            second_largest = num\n",
    "    return second_largest if second_largest != float('-inf') else None\n",
    "\n",
    "print(find_second_largest_2([110.4, 2, 4.84, 4.8, 3.79]))"
   ]
  },
  {
   "cell_type": "code",
   "execution_count": 3,
   "metadata": {},
   "outputs": [
    {
     "name": "stdout",
     "output_type": "stream",
     "text": [
      "3.79\n"
     ]
    }
   ],
   "source": [
    "# Example (Easy): Find the second smallest number in a list by index\n",
    "def find_second_smallest(nums):\n",
    "    min_index = nums.index(min(nums))\n",
    "    return min(nums[:min_index] + nums[min_index + 1:])\n",
    "\n",
    "print(find_second_smallest([110.4, 2, 4.84, 4.8, 3.79]))"
   ]
  },
  {
   "cell_type": "markdown",
   "metadata": {},
   "source": [
    "Above solution has time complexity of O(n) and space complexity O(n) because it creates new list proportional to input size. \n",
    "\n",
    "Below solution has time complexity of O(n) and space complexity of O(1) because it uses a constant amount of additional memory regardless of input size; it uses only 2 variables for memory."
   ]
  },
  {
   "cell_type": "code",
   "execution_count": 4,
   "metadata": {},
   "outputs": [
    {
     "name": "stdout",
     "output_type": "stream",
     "text": [
      "3.79\n"
     ]
    }
   ],
   "source": [
    "def find_second_smallest_2(nums):\n",
    "    smallest = float('inf')\n",
    "    second_smallest = float('inf')\n",
    "\n",
    "    for num in nums:\n",
    "        if num < smallest:\n",
    "            second_smallest = smallest\n",
    "            smallest = num\n",
    "        elif num < second_smallest and num != smallest:\n",
    "            second_smallest = num\n",
    "\n",
    "    return second_smallest if second_smallest != float('inf') else None\n",
    "\n",
    "print(find_second_smallest_2([110.4, 2, 4.84, 4.8, 3.79]))"
   ]
  },
  {
   "cell_type": "markdown",
   "metadata": {},
   "source": [
    "##### Lists, Tuples, Sets, Dictionaries (operations, methods, and use cases)"
   ]
  },
  {
   "cell_type": "markdown",
   "metadata": {},
   "source": [
    "1) Remove Duplicates from Sorted List:\n",
    "Given a sorted list of integers, remove the duplicates in-place such that each element appears only once. Return the length of the new list.\n",
    "Example:\n",
    "Input: [1, 1, 2, 3, 3, 4]\n",
    "Output: [1, 2, 3, 4]\n",
    "Length: 4\n",
    "\n",
    "2) Rotate List:\n",
    "Given a list and an integer k, rotate the list by k places to the right.\n",
    "Example:\n",
    "Input: [1, 2, 3, 4, 5], k = 2\n",
    "Output: [4, 5, 1, 2, 3]"
   ]
  },
  {
   "cell_type": "code",
   "execution_count": 11,
   "metadata": {},
   "outputs": [
    {
     "name": "stdout",
     "output_type": "stream",
     "text": [
      "[1, 2, 3, 4] 4\n"
     ]
    }
   ],
   "source": [
    "# 1- Remove Duplicates from Sorted List and get the length of the new list:\n",
    "x = [1, 1, 2, 3, 3, 4]\n",
    "for item in x:\n",
    "    if x.count(item) > 1:\n",
    "        x.remove(item)\n",
    "print(x, len(x))\n",
    "# O(n^2) time complexity because of the count and remove methods in for loop"
   ]
  },
  {
   "cell_type": "code",
   "execution_count": 12,
   "metadata": {},
   "outputs": [
    {
     "name": "stdout",
     "output_type": "stream",
     "text": [
      "[1, 2, 3, 4] 4\n"
     ]
    }
   ],
   "source": [
    "result = list(set(x))\n",
    "print(result, len(result))\n",
    "# O(n) time complexity and O(n) space complexity because the set data structure is implemented using a hash table, which requires additional space for storing the hash values and pointers or references to the actual elements."
   ]
  },
  {
   "cell_type": "code",
   "execution_count": 6,
   "metadata": {},
   "outputs": [
    {
     "data": {
      "text/plain": [
       "[2, 3, 4, 5, 1]"
      ]
     },
     "execution_count": 6,
     "metadata": {},
     "output_type": "execute_result"
    }
   ],
   "source": [
    "# 2- Given a list and an integer k, rotate the list by k places to the right.\n",
    "x = [1, 2, 3, 4, 5]\n",
    "k= 4\n",
    "\n",
    "def rotate_list(x,k):\n",
    "    if not x:\n",
    "        return x\n",
    "    k = k % len(x)\n",
    "    return x[-k:]+x[:-k]\n",
    "\n",
    "rotate_list(x,k)\n",
    "# O(n) time complexity and O(n) space complexity"
   ]
  },
  {
   "cell_type": "code",
   "execution_count": 8,
   "metadata": {},
   "outputs": [
    {
     "data": {
      "text/plain": [
       "[2, 3, 4, 5, 1]"
      ]
     },
     "execution_count": 8,
     "metadata": {},
     "output_type": "execute_result"
    }
   ],
   "source": [
    "def rotate_list_inplace(x,k):\n",
    "    if not x:\n",
    "        return x\n",
    "    k = k % len(x)\n",
    "    x.reverse()\n",
    "    x[:k] = reversed(x[:k])\n",
    "    x[k:] = reversed(x[k:])\n",
    "    return x\n",
    "\n",
    "rotate_list_inplace(x,k)\n",
    "# O(n) time complexity and O(1) space complexity"
   ]
  },
  {
   "cell_type": "markdown",
   "metadata": {},
   "source": [
    "Tuples:\n",
    "\n",
    "3- Swap Elements in a Tuple:\n",
    "Given a tuple and two indices i and j, swap the elements at those indices and return the new tuple.\n",
    "Example:\n",
    "Input: (1, 2, 3, 4, 5), i = 0, j = 3\n",
    "Output: (4, 2, 3, 1, 5)\n",
    "\n",
    "4- Count Occurrences in a Tuple:\n",
    "Given a tuple and an element, count the number of occurrences of that element in the tuple.\n",
    "Example:\n",
    "Input: (1, 2, 3, 1, 4, 1), element = 1\n",
    "Output: 3\n",
    "\n",
    "Sets:\n",
    "\n",
    "5- Intersection of Two Sets:\n",
    "Given two sets, find the intersection of the two sets (elements common to both sets).\n",
    "Example:\n",
    "Input: {1, 2, 3, 4, 5}, {4, 5, 6, 7, 8}\n",
    "Output: {4, 5}\n",
    "\n",
    "6- Symmetric Difference of Sets:\n",
    "Given two sets, find the symmetric difference (elements present in either set but not in both).\n",
    "Example:\n",
    "Input: {1, 2, 3, 4}, {3, 4, 5, 6}\n",
    "Output: {1, 2, 5, 6}\n",
    "\n",
    "Dictionaries:\n",
    "\n",
    "7- Word Count:\n",
    "Given a string, count the occurrence of each word in the string and return a dictionary with words as keys and their counts as values.\n",
    "Example:\n",
    "Input: \"apple banana apple orange\"\n",
    "Output: {'apple': 2, 'banana': 1, 'orange': 1}\n",
    "8- Invert a Dictionary:\n",
    "Given a dictionary, invert its key-value pairs to create a new dictionary where the values become keys, and the keys become values.\n",
    "Example:\n",
    "Input: {'a': 1, 'b': 2, 'c': 3}\n",
    "Output: {1: 'a', 2: 'b', 3: 'c'}"
   ]
  }
 ],
 "metadata": {
  "kernelspec": {
   "display_name": "Python 3",
   "language": "python",
   "name": "python3"
  },
  "language_info": {
   "codemirror_mode": {
    "name": "ipython",
    "version": 3
   },
   "file_extension": ".py",
   "mimetype": "text/x-python",
   "name": "python",
   "nbconvert_exporter": "python",
   "pygments_lexer": "ipython3",
   "version": "3.12.0"
  }
 },
 "nbformat": 4,
 "nbformat_minor": 2
}
