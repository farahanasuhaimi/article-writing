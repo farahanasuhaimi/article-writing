{
 "cells": [
  {
   "cell_type": "markdown",
   "metadata": {},
   "source": [
    "#### Section 1: Mastering Data Structures and Algorithms\n",
    "- Lists, Tuples, Sets, Dictionaries (operations, methods, and use cases)\n",
    "- Strings (slicing, indexing, manipulations)\n",
    "- Linked Lists (implementation, traversal, operations)\n",
    "- Trees (binary trees, traversals)\n",
    "- Sorting algorithms (bubble sort, merge sort, quick sort)\n",
    "- Searching algorithms (linear search, binary search)"
   ]
  },
  {
   "cell_type": "code",
   "execution_count": 2,
   "metadata": {},
   "outputs": [],
   "source": [
    "# Example (Easy): Find the second largest number in a list\n",
    "def find_second_largest(nums):\n",
    "    largest = max(nums)\n",
    "    second_largest = float('-inf')\n",
    "    for num in nums:\n",
    "        if num != largest and num > second_largest:\n",
    "            second_largest = num\n",
    "    return second_largest if second_largest != float('-inf') else None"
   ]
  },
  {
   "cell_type": "code",
   "execution_count": 5,
   "metadata": {},
   "outputs": [
    {
     "name": "stdout",
     "output_type": "stream",
     "text": [
      "4.9\n"
     ]
    }
   ],
   "source": [
    "print(find_second_largest([110.4, 2, 4.9, 4.8, 3.79]))"
   ]
  },
  {
   "cell_type": "code",
   "execution_count": 6,
   "metadata": {},
   "outputs": [
    {
     "ename": "SyntaxError",
     "evalue": "expected 'else' after 'if' expression (3586024798.py, line 4)",
     "output_type": "error",
     "traceback": [
      "\u001b[1;36m  Cell \u001b[1;32mIn[6], line 4\u001b[1;36m\u001b[0m\n\u001b[1;33m    return nums[-2] if len(nums) >= 2\u001b[0m\n\u001b[1;37m           ^\u001b[0m\n\u001b[1;31mSyntaxError\u001b[0m\u001b[1;31m:\u001b[0m expected 'else' after 'if' expression\n"
     ]
    }
   ],
   "source": [
    "# Other way to find second largest number in list\n",
    "def find_second_largest_2(nums):\n",
    "    nums.sort()\n",
    "    return nums[-2] if len(nums) >= 2 else none\n",
    "\n",
    "print(find_second_largest_2([110.4, 2, 4.9, 4.8, 3.79]))"
   ]
  },
  {
   "cell_type": "code",
   "execution_count": null,
   "metadata": {},
   "outputs": [],
   "source": []
  }
 ],
 "metadata": {
  "kernelspec": {
   "display_name": "Python 3",
   "language": "python",
   "name": "python3"
  },
  "language_info": {
   "codemirror_mode": {
    "name": "ipython",
    "version": 3
   },
   "file_extension": ".py",
   "mimetype": "text/x-python",
   "name": "python",
   "nbconvert_exporter": "python",
   "pygments_lexer": "ipython3",
   "version": "3.12.0"
  }
 },
 "nbformat": 4,
 "nbformat_minor": 2
}
