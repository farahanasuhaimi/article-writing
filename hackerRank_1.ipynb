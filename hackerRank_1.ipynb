{
 "cells": [
  {
   "cell_type": "markdown",
   "metadata": {},
   "source": [
    "#### Section 1: Mastering Data Structures and Algorithms\n",
    "- Lists, Tuples, Sets, Dictionaries (operations, methods, and use cases)\n",
    "- Strings (slicing, indexing, manipulations)\n",
    "- Linked Lists (implementation, traversal, operations)\n",
    "- Trees (binary trees, traversals)\n",
    "- Sorting algorithms (bubble sort, merge sort, quick sort)\n",
    "- Searching algorithms (linear search, binary search)"
   ]
  },
  {
   "cell_type": "markdown",
   "metadata": {},
   "source": [
    "##### Easy Example"
   ]
  },
  {
   "cell_type": "code",
   "execution_count": 1,
   "metadata": {},
   "outputs": [
    {
     "name": "stdout",
     "output_type": "stream",
     "text": [
      "4.84\n"
     ]
    }
   ],
   "source": [
    "# Find the second largest number in a list\n",
    "def find_second_largest(nums):\n",
    "    nums.sort()\n",
    "    return nums[-2] if len(nums) >= 2 else none\n",
    "\n",
    "print(find_second_largest([110.4, 2, 4.84, 4.8, 3.79]))"
   ]
  },
  {
   "cell_type": "code",
   "execution_count": 2,
   "metadata": {},
   "outputs": [
    {
     "name": "stdout",
     "output_type": "stream",
     "text": [
      "4.84\n"
     ]
    }
   ],
   "source": [
    "# find second largest number in a list without sorting\n",
    "def find_second_largest_2(nums):\n",
    "    largest = second_largest = float('-inf')\n",
    "    for num in nums:\n",
    "        if num > largest:\n",
    "            second_largest = largest\n",
    "            largest = num\n",
    "        elif num > second_largest and num != largest:\n",
    "            second_largest = num\n",
    "    return second_largest if second_largest != float('-inf') else None\n",
    "\n",
    "print(find_second_largest_2([110.4, 2, 4.84, 4.8, 3.79]))"
   ]
  },
  {
   "cell_type": "code",
   "execution_count": 3,
   "metadata": {},
   "outputs": [
    {
     "name": "stdout",
     "output_type": "stream",
     "text": [
      "3.79\n"
     ]
    }
   ],
   "source": [
    "# Example (Easy): Find the second smallest number in a list by index\n",
    "def find_second_smallest(nums):\n",
    "    min_index = nums.index(min(nums))\n",
    "    return min(nums[:min_index] + nums[min_index + 1:])\n",
    "\n",
    "print(find_second_smallest([110.4, 2, 4.84, 4.8, 3.79]))"
   ]
  },
  {
   "cell_type": "markdown",
   "metadata": {},
   "source": [
    "Above solution has time complexity of O(n) and space complexity O(n) because it creates new list proportional to input size. \n",
    "\n",
    "Below solution has time complexity of O(n) and space complexity of O(1) because it uses a constant amount of additional memory regardless of input size; it uses only 2 variables for memory."
   ]
  },
  {
   "cell_type": "code",
   "execution_count": 4,
   "metadata": {},
   "outputs": [
    {
     "name": "stdout",
     "output_type": "stream",
     "text": [
      "3.79\n"
     ]
    }
   ],
   "source": [
    "def find_second_smallest_2(nums):\n",
    "    smallest = float('inf')\n",
    "    second_smallest = float('inf')\n",
    "\n",
    "    for num in nums:\n",
    "        if num < smallest:\n",
    "            second_smallest = smallest\n",
    "            smallest = num\n",
    "        elif num < second_smallest and num != smallest:\n",
    "            second_smallest = num\n",
    "\n",
    "    return second_smallest if second_smallest != float('inf') else None\n",
    "\n",
    "print(find_second_smallest_2([110.4, 2, 4.84, 4.8, 3.79]))"
   ]
  },
  {
   "cell_type": "markdown",
   "metadata": {},
   "source": [
    "##### Medium Example"
   ]
  },
  {
   "cell_type": "code",
   "execution_count": null,
   "metadata": {},
   "outputs": [],
   "source": [
    "# Implement a binary search tree\n",
    "class Node:\n",
    "    def __init__(self, val):\n",
    "        self.val = val\n",
    "        self.left = None\n",
    "        self.right = None\n",
    "\n",
    "class BinarySearchTree:\n",
    "    def __init__(self):\n",
    "        self.root = None\n",
    "\n",
    "    def insert(self, val):\n",
    "        if not self.root:\n",
    "            self.root = Node(val)\n",
    "        else:\n",
    "            self._insert(val, self.root)\n",
    "\n",
    "    def _insert(self, val, node):\n",
    "        if val < node.val:\n",
    "            if not node.left:\n",
    "                node.left = Node(val)\n",
    "            else:\n",
    "                self._insert(val, node.left)\n",
    "        else:\n",
    "            if not node.right:\n",
    "                node.right = Node(val)\n",
    "            else:\n",
    "                self._insert(val, node.right)"
   ]
  }
 ],
 "metadata": {
  "kernelspec": {
   "display_name": "Python 3",
   "language": "python",
   "name": "python3"
  },
  "language_info": {
   "codemirror_mode": {
    "name": "ipython",
    "version": 3
   },
   "file_extension": ".py",
   "mimetype": "text/x-python",
   "name": "python",
   "nbconvert_exporter": "python",
   "pygments_lexer": "ipython3",
   "version": "3.12.0"
  }
 },
 "nbformat": 4,
 "nbformat_minor": 2
}
